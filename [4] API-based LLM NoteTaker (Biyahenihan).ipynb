{
 "cells": [
  {
   "cell_type": "code",
   "execution_count": 1,
   "id": "0a7d4cf5",
   "metadata": {},
   "outputs": [
    {
     "name": "stdout",
     "output_type": "stream",
     "text": [
      "Python 3.9.1\n"
     ]
    }
   ],
   "source": [
    "!python --version"
   ]
  },
  {
   "cell_type": "code",
   "execution_count": 2,
   "id": "b9ff05d7",
   "metadata": {},
   "outputs": [],
   "source": [
    "import os\n",
    "import openai"
   ]
  },
  {
   "cell_type": "markdown",
   "id": "d296be97",
   "metadata": {},
   "source": [
    "- Load the `.txt` file that contains your OpenAI API key."
   ]
  },
  {
   "cell_type": "code",
   "execution_count": 3,
   "id": "2c57d520",
   "metadata": {},
   "outputs": [],
   "source": [
    "with open('Data/Input/api-key.txt', 'r') as file:\n",
    "    api_key = file.read()\n",
    "\n",
    "os.environ[\"OPENAI_API_KEY\"] = api_key\n",
    "openai.api_key = os.getenv(\"OPENAI_API_KEY\")"
   ]
  },
  {
   "cell_type": "markdown",
   "id": "e58d6030",
   "metadata": {},
   "source": [
    "# Part IV: 3rd Biyahenihan Research Forum"
   ]
  },
  {
   "cell_type": "markdown",
   "id": "f7ec2c21",
   "metadata": {},
   "source": [
    "- Import `OpenAI_NoteTaker`."
   ]
  },
  {
   "cell_type": "code",
   "execution_count": 4,
   "id": "1a9955db",
   "metadata": {},
   "outputs": [],
   "source": [
    "from OpenAI_NoteTaker import OpenAI_NoteTaker"
   ]
  },
  {
   "cell_type": "markdown",
   "id": "d84ca633",
   "metadata": {},
   "source": [
    "- Prepare role"
   ]
  },
  {
   "cell_type": "code",
   "execution_count": 5,
   "id": "3101a890",
   "metadata": {},
   "outputs": [
    {
     "name": "stdout",
     "output_type": "stream",
     "text": [
      "You are a detail-oriented and data-driven advocate for interdisciplinary collaboration between citizens and government officials, who can easily transcribe Filipino-English discussions to pure English.\n"
     ]
    }
   ],
   "source": [
    "role_txt = \"You are a detail-oriented and data-driven advocate for interdisciplinary collaboration between citizens and government officials, who can easily transcribe Filipino-English discussions to pure English.\"\n",
    "print(role_txt)"
   ]
  },
  {
   "cell_type": "markdown",
   "id": "ca212043",
   "metadata": {},
   "source": [
    "## I. Introduction\n",
    "\n",
    "- Summarize into 5 points."
   ]
  },
  {
   "cell_type": "code",
   "execution_count": 6,
   "id": "9ba1ee21",
   "metadata": {},
   "outputs": [
    {
     "name": "stdout",
     "output_type": "stream",
     "text": [
      "Output .mp3 file saved to Data/Output/1 - Introduction.mp3\n",
      "Conversion to mp3 successful.\n",
      "Input file size: 8.8 MB.\n",
      "Duration: 5.8e+02 s\n",
      "Input transcription tokens: 1593\n",
      "\n",
      "NoteTaker's Summary in 5 points: \n",
      "\n",
      "- Introduction to the Han Research Forum, co-organized by WeSolve Foundation, MoveUsOne Coalition, and Open Government Partnerships, focusing on mobility and transportation.\n",
      "- Reminders for the event, including muting microphones when someone is speaking, a moderated Q&A portion later on, and the option to chat questions in the chatbox.\n",
      "- Introduction and opening remarks from Ms. Vivian Swarty-Cortez from the Open Government Partnership, discussing the importance of empowering citizens in government decisions and the role of OGP in promoting transparency and accountability.\n",
      "- Presentation on WeSolve Foundation's research on empowering citizens in building better bike lanes through open contracting and how open government approaches can assist in developing better mobility infrastructure.\n",
      "- Discussion on using the OGP platform to connect with peers in the region and share experiences to improve government transparency and accountability.\n",
      "CPU times: total: 1.92 s\n",
      "Wall time: 1min 9s\n"
     ]
    }
   ],
   "source": [
    "%%time\n",
    "Intro_NoteTaker = OpenAI_NoteTaker(input_dir='Data/Input/1 - Introduction.mp4')\n",
    "\n",
    "Intro_NoteTaker.take_notes(system_prompt=role_txt, \n",
    "                           n_items=5, \n",
    "                           convert2mp3=True,\n",
    "                           export_mp3_dir='Data/Output/1 - Introduction.mp3',\n",
    "                           show_notes=True)"
   ]
  },
  {
   "cell_type": "markdown",
   "id": "75f7d568",
   "metadata": {},
   "source": [
    "- Save raw transcription and summarized notes.\n",
    "- View total pricing."
   ]
  },
  {
   "cell_type": "code",
   "execution_count": 7,
   "id": "92703f3c",
   "metadata": {},
   "outputs": [
    {
     "name": "stdout",
     "output_type": "stream",
     "text": [
      "Transcript saved at: Data/Output/1 - Introduction Transcribed.txt\n",
      "Summarized note saved at: Data/Output/1 - Introduction Notes.txt\n",
      "\n",
      "Job Price Breakdown: \n",
      "\n",
      "transcription_price: 0.05750 USD\n",
      "summarization_price: 0.00365 USD\n",
      "total_job_price: 0.06115 USD\n"
     ]
    }
   ],
   "source": [
    "Intro_NoteTaker.save_notes(export_transcription_dir='Data/Output/1 - Introduction Transcribed', \n",
    "                                  export_summary_dir='Data/Output/1 - Introduction Notes')\n",
    "\n",
    "Intro_NoteTaker.get_total_job_price()"
   ]
  },
  {
   "cell_type": "markdown",
   "id": "c5119b5e",
   "metadata": {},
   "source": [
    "# II. Presentation"
   ]
  },
  {
   "cell_type": "markdown",
   "id": "40f4ac4b",
   "metadata": {},
   "source": [
    "## A. First part (2a): Ken"
   ]
  },
  {
   "cell_type": "code",
   "execution_count": 8,
   "id": "198353ad",
   "metadata": {},
   "outputs": [
    {
     "name": "stdout",
     "output_type": "stream",
     "text": [
      "Output .mp3 file saved to Data/Output/2a - Presentation.mp3\n",
      "Conversion to mp3 successful.\n",
      "Input file size: 1.2e+01 MB.\n",
      "Duration: 7.9e+02 s\n",
      "Input transcription tokens: 1918\n",
      "\n",
      "NoteTaker's Summary in 5 points: \n",
      "\n",
      "- Study on Empowering Citizens to Build Better Bike Lanes through Open Contracting presented.\n",
      "- Study covers 12 publicly available pop-up bike lane contracts worth around a billion pesos that financed the construction of 497 kilometers of bike lanes in Metro Manila, Metro Cebu, and Metro Davao.\n",
      "- Major findings: cost of bike lanes, government savings through bidders, procurement timeline, data completeness and quality, bidding and competition, and trust in open contracting.\n",
      "- Policy recommendations: enhance transparency, participation, and accountability measures, build a procurement integrity movement, and co-create a stronger and more inclusive open contracting commitment for the next Open Government Partnership National Action Plan.\n",
      "- Presentation not to conclude fraud or corruption, but to shape future procurement cycles to be more responsive to community needs.\n",
      "CPU times: total: 2.52 s\n",
      "Wall time: 59.4 s\n"
     ]
    }
   ],
   "source": [
    "%%time\n",
    "Presentation2a_NoteTaker = OpenAI_NoteTaker(input_dir='Data/Input/2a - Presentation.mp4')\n",
    "\n",
    "Presentation2a_NoteTaker.take_notes(system_prompt=role_txt, \n",
    "                                    n_items=5, \n",
    "                                    convert2mp3=True, \n",
    "                                    export_mp3_dir='Data/Output/2a - Presentation.mp3',\n",
    "                                    show_notes=True)"
   ]
  },
  {
   "cell_type": "code",
   "execution_count": 9,
   "id": "c2cbec3f",
   "metadata": {},
   "outputs": [
    {
     "name": "stdout",
     "output_type": "stream",
     "text": [
      "Transcript saved at: Data/Output/2a - Presentation Transcribed.txt\n",
      "Summarized note saved at: Data/Output/2a - Presentation Notes.txt\n"
     ]
    }
   ],
   "source": [
    "Presentation2a_NoteTaker.save_notes(export_transcription_dir='Data/Output/2a - Presentation Transcribed', \n",
    "                                    export_summary_dir='Data/Output/2a - Presentation Notes')"
   ]
  },
  {
   "cell_type": "markdown",
   "id": "274c79c2",
   "metadata": {},
   "source": [
    "## B. Second part (2b): Ma'am Reina"
   ]
  },
  {
   "cell_type": "code",
   "execution_count": 10,
   "id": "9f63185a",
   "metadata": {},
   "outputs": [
    {
     "name": "stdout",
     "output_type": "stream",
     "text": [
      "Output .mp3 file saved to Data/Output/2b - Presentation.mp3\n",
      "Conversion to mp3 successful.\n",
      "Input file size: 9.3 MB.\n",
      "Duration: 6.1e+02 s\n",
      "Input transcription tokens: 1427\n",
      "\n",
      "NoteTaker's Summary in 5 points: \n",
      "\n",
      "- The researchers shared their findings on how to empower citizens with field jobs data for better procurement outcomes and value for their taxpayer money.\n",
      "- They looked at different components of procurement systems, including availability of documents and information, value, duration, price, competition and bidding, and quality of procurement implementation.\n",
      "- Their analysis of 12 bike lane contracts revealed a total award value of around 1.071 billion pesos for 497 kilometers of bike lanes, with an average cost per kilometer of 2.15 million pesos.\n",
      "- They also found that one supplier won six out of 12 contracts and got more than half of the total award value, while five out of 12 contracts were worth 125 million pesos and above.\n",
      "- The analysis also estimated possible savings of 29.8 million pesos (internal price comparison) and 214 million pesos (external price analysis) for properly procuring items within the contracts.\n",
      "CPU times: total: 1.61 s\n",
      "Wall time: 48.9 s\n"
     ]
    }
   ],
   "source": [
    "%%time\n",
    "Presentation2b_NoteTaker = OpenAI_NoteTaker(input_dir='Data/Input/2b - Presentation.mp4')\n",
    "\n",
    "Presentation2b_NoteTaker.take_notes(system_prompt=role_txt, \n",
    "                                    n_items=5, \n",
    "                                    convert2mp3=True, \n",
    "                                    export_mp3_dir='Data/Output/2b - Presentation.mp3',\n",
    "                                    show_notes=True)"
   ]
  },
  {
   "cell_type": "code",
   "execution_count": 11,
   "id": "856d80b4",
   "metadata": {},
   "outputs": [
    {
     "name": "stdout",
     "output_type": "stream",
     "text": [
      "Transcript saved at: Data/Output/2b - Presentation Transcribed.txt\n",
      "Summarized note saved at: Data/Output/2b - Presentation Notes.txt\n"
     ]
    }
   ],
   "source": [
    "Presentation2b_NoteTaker.save_notes(export_transcription_dir='Data/Output/2b - Presentation Transcribed', \n",
    "                                    export_summary_dir='Data/Output/2b - Presentation Notes')"
   ]
  },
  {
   "cell_type": "markdown",
   "id": "bce58a3f",
   "metadata": {},
   "source": [
    "## C. Third Part (2c): Riz"
   ]
  },
  {
   "cell_type": "code",
   "execution_count": 12,
   "id": "d204fa75",
   "metadata": {},
   "outputs": [
    {
     "name": "stdout",
     "output_type": "stream",
     "text": [
      "Output .mp3 file saved to Data/Output/2c - Presentation.mp3\n",
      "Conversion to mp3 successful.\n",
      "Input file size: 1.1e+01 MB.\n",
      "Duration: 7.2e+02 s\n",
      "Input transcription tokens: 2310\n",
      "\n",
      "NoteTaker's Summary in 5 points: \n",
      "\n",
      "- Open contracting is important for effective government services and better bike lanes.\n",
      "- Community efforts, including social media monitoring and OpenStreetMap, help monitor bike lanes in the Philippines.\n",
      "- Key lessons from bike lane procurement studies include establishing safe spaces for community engagement, robust mandates and leadership, and consistent data collection and quality assurance.\n",
      "- Barriers to civil society participation in procurement include lack of resources, information, technical learning curve, government demand, and safe spaces.\n",
      "- A strategic approach can increase CSO registration, better disclosures, and better procurement outcomes. This includes consultation meetings, connecting partners, and setting priorities for engagement.\n",
      "CPU times: total: 2.36 s\n",
      "Wall time: 54.5 s\n"
     ]
    }
   ],
   "source": [
    "%%time\n",
    "Presentation2c_NoteTaker = OpenAI_NoteTaker(input_dir='Data/Input/2c - Presentation.mp4')\n",
    "\n",
    "Presentation2c_NoteTaker.take_notes(system_prompt=role_txt, \n",
    "                                    n_items=5, \n",
    "                                    convert2mp3=True, \n",
    "                                    export_mp3_dir='Data/Output/2c - Presentation.mp3',\n",
    "                                    show_notes=True)"
   ]
  },
  {
   "cell_type": "code",
   "execution_count": 13,
   "id": "9dc6d308",
   "metadata": {},
   "outputs": [
    {
     "name": "stdout",
     "output_type": "stream",
     "text": [
      "Transcript saved at: Data/Output/2c - Presentation Transcribed.txt\n",
      "Summarized note saved at: Data/Output/2c - Presentation Notes.txt\n"
     ]
    }
   ],
   "source": [
    "Presentation2c_NoteTaker.save_notes(export_transcription_dir='Data/Output/2c - Presentation Transcribed', \n",
    "                                    export_summary_dir='Data/Output/2c - Presentation Notes')"
   ]
  },
  {
   "cell_type": "markdown",
   "id": "1405bf52",
   "metadata": {},
   "source": [
    "## D. Get Job Price"
   ]
  },
  {
   "cell_type": "code",
   "execution_count": 14,
   "id": "e93dcea9",
   "metadata": {},
   "outputs": [
    {
     "name": "stdout",
     "output_type": "stream",
     "text": [
      "\n",
      "Job Price Breakdown: \n",
      "\n",
      "transcription_price: 0.07906 USD\n",
      "summarization_price: 0.00427 USD\n",
      "total_job_price: 0.08333 USD\n"
     ]
    }
   ],
   "source": [
    "Presentation2a_NoteTaker.get_total_job_price()"
   ]
  },
  {
   "cell_type": "code",
   "execution_count": 15,
   "id": "7e5b861d",
   "metadata": {},
   "outputs": [
    {
     "name": "stdout",
     "output_type": "stream",
     "text": [
      "\n",
      "Job Price Breakdown: \n",
      "\n",
      "transcription_price: 0.06066 USD\n",
      "summarization_price: 0.00334 USD\n",
      "total_job_price: 0.06401 USD\n"
     ]
    }
   ],
   "source": [
    "Presentation2b_NoteTaker.get_total_job_price()"
   ]
  },
  {
   "cell_type": "code",
   "execution_count": 16,
   "id": "9e4a7155",
   "metadata": {},
   "outputs": [
    {
     "name": "stdout",
     "output_type": "stream",
     "text": [
      "\n",
      "Job Price Breakdown: \n",
      "\n",
      "transcription_price: 0.07195 USD\n",
      "summarization_price: 0.00499 USD\n",
      "total_job_price: 0.07694 USD\n"
     ]
    }
   ],
   "source": [
    "Presentation2c_NoteTaker.get_total_job_price()"
   ]
  },
  {
   "cell_type": "markdown",
   "id": "541f2021",
   "metadata": {},
   "source": [
    "# III. Panel Interview"
   ]
  },
  {
   "cell_type": "markdown",
   "id": "4f6b54c7",
   "metadata": {},
   "source": [
    "## A. First Part"
   ]
  },
  {
   "cell_type": "code",
   "execution_count": 17,
   "id": "521d1623",
   "metadata": {},
   "outputs": [
    {
     "name": "stdout",
     "output_type": "stream",
     "text": [
      "Output .mp3 file saved to Data/Output/3a - Panel.mp3\n",
      "Conversion to mp3 successful.\n",
      "Input file size: 1.1e+01 MB.\n",
      "Duration: 7e+02 s\n",
      "Input transcription tokens: 2175\n",
      "\n",
      "NoteTaker's Summary in 6 points: \n",
      "\n",
      "- The speakers emphasize transparency, participation, and accountability as crucial elements to be achieved in the following years.\n",
      "- The research paper being discussed has a QR code and bitlink for easier access to the WSOL website.\n",
      "- Mr. Patrick Santos from DOTR expresses their support for civil society involvement in procurement processes, including planning, implementation, and monitoring of active transport projects.\n",
      "- The DOTR also fully supports greater accountability and a data-driven approach to procurement, as well as a fully automated and technology-based procurement process for ease of doing business and accessibility of information.\n",
      "- ASEC Eric Ayapana of DPWH emphasizes their support for the research paper and the need to help local government units and agencies develop protected bike lane infrastructure.\n",
      "- DPWH is also supportive of civil society participation in high-impact parts of the food procurement cycle, which may involve passing through accreditation. They also welcome comments on new bike lane design standards.\n",
      "CPU times: total: 2.19 s\n",
      "Wall time: 53.9 s\n"
     ]
    }
   ],
   "source": [
    "%%time\n",
    "Panel3a_NoteTaker = OpenAI_NoteTaker(input_dir='Data/Input/3a - Panel.mp4')\n",
    "\n",
    "Panel3a_NoteTaker.take_notes(system_prompt=role_txt, \n",
    "                             n_items=6, \n",
    "                             convert2mp3=True, \n",
    "                             export_mp3_dir='Data/Output/3a - Panel.mp3',\n",
    "                             show_notes=True)"
   ]
  },
  {
   "cell_type": "code",
   "execution_count": 18,
   "id": "3f841dc1",
   "metadata": {},
   "outputs": [
    {
     "name": "stdout",
     "output_type": "stream",
     "text": [
      "Transcript saved at: Data/Output/3a - Panel Transcribed.txt\n",
      "Summarized note saved at: Data/Output/3a - Panel Notes.txt\n"
     ]
    }
   ],
   "source": [
    "Panel3a_NoteTaker.save_notes(export_transcription_dir='Data/Output/3a - Panel Transcribed', \n",
    "                                    export_summary_dir='Data/Output/3a - Panel Notes')"
   ]
  },
  {
   "cell_type": "markdown",
   "id": "f2c1ee7b",
   "metadata": {},
   "source": [
    "## B. Second Part"
   ]
  },
  {
   "cell_type": "code",
   "execution_count": 19,
   "id": "f36f03df",
   "metadata": {},
   "outputs": [
    {
     "name": "stdout",
     "output_type": "stream",
     "text": [
      "Output .mp3 file saved to Data/Output/3b - Panel.mp3\n",
      "Conversion to mp3 successful.\n",
      "Input file size: 1.9e+01 MB.\n",
      "Duration: 1.2e+03 s\n",
      "Input transcription tokens: 3637\n",
      "\n",
      "NoteTaker's Summary in 6 points: \n",
      "\n",
      "- Director Jen Entredi Chocaong from PSPBA joined the conference to talk about what they are doing for procurement reforms at PSDBM\n",
      "- PSDBM is implementing e-bidding for most of their CSP procurement activities this year\n",
      "- PSDBM aims to reinstate motor vehicles in the CSP list, but this requires the approval of the Government Procurement Policy Board\n",
      "- PSDBM seeks to enforce the mandate that all government agencies must buy their CSP requirements from PSDBM\n",
      "- Prof. Regine Tejada discussed how procurement data disclosures and policy recommendations can impact researchers and cyclists\n",
      "- Tina Vitalia from the Make it Safer movement discussed the importance of capacity building for active transport users to participate in the public infrastructure design and delivery process\n",
      "CPU times: total: 4.61 s\n",
      "Wall time: 1min 22s\n"
     ]
    }
   ],
   "source": [
    "%%time\n",
    "Panel3b_NoteTaker = OpenAI_NoteTaker(input_dir='Data/Input/3b - Panel.mp4')\n",
    "\n",
    "Panel3b_NoteTaker.take_notes(system_prompt=role_txt, \n",
    "                             n_items=6, \n",
    "                             convert2mp3=True, \n",
    "                             export_mp3_dir='Data/Output/3b - Panel.mp3',\n",
    "                             show_notes=True)"
   ]
  },
  {
   "cell_type": "code",
   "execution_count": 20,
   "id": "b0d63d73",
   "metadata": {},
   "outputs": [
    {
     "name": "stdout",
     "output_type": "stream",
     "text": [
      "Transcript saved at: Data/Output/3b - Panel Transcribed.txt\n",
      "Summarized note saved at: Data/Output/3b - Panel Notes.txt\n"
     ]
    }
   ],
   "source": [
    "Panel3b_NoteTaker.save_notes(export_transcription_dir='Data/Output/3b - Panel Transcribed', \n",
    "                                    export_summary_dir='Data/Output/3b - Panel Notes')"
   ]
  },
  {
   "cell_type": "markdown",
   "id": "c4fd19bf",
   "metadata": {},
   "source": [
    "## C. Get Job Price"
   ]
  },
  {
   "cell_type": "code",
   "execution_count": 21,
   "id": "330f98ed",
   "metadata": {},
   "outputs": [
    {
     "name": "stdout",
     "output_type": "stream",
     "text": [
      "\n",
      "Job Price Breakdown: \n",
      "\n",
      "transcription_price: 0.07030 USD\n",
      "summarization_price: 0.00484 USD\n",
      "total_job_price: 0.07515 USD\n"
     ]
    }
   ],
   "source": [
    "Panel3a_NoteTaker.get_total_job_price()"
   ]
  },
  {
   "cell_type": "code",
   "execution_count": 22,
   "id": "a55e16d5",
   "metadata": {},
   "outputs": [
    {
     "name": "stdout",
     "output_type": "stream",
     "text": [
      "\n",
      "Job Price Breakdown: \n",
      "\n",
      "transcription_price: 0.12404 USD\n",
      "summarization_price: 0.00770 USD\n",
      "total_job_price: 0.13174 USD\n"
     ]
    }
   ],
   "source": [
    "Panel3b_NoteTaker.get_total_job_price()"
   ]
  },
  {
   "cell_type": "markdown",
   "id": "266bafb2",
   "metadata": {},
   "source": [
    "# IV. Q&A"
   ]
  },
  {
   "cell_type": "code",
   "execution_count": 23,
   "id": "9245dd12",
   "metadata": {
    "scrolled": false
   },
   "outputs": [
    {
     "name": "stdout",
     "output_type": "stream",
     "text": [
      "Output .mp3 file saved to Data/Output/4 - QnA.mp3\n",
      "Conversion to mp3 successful.\n",
      "Input file size: 2.2e+01 MB.\n",
      "Duration: 1.4e+03 s\n",
      "Input transcription tokens: 3763\n",
      "\n",
      "NoteTaker's Summary in 10 points: \n",
      "\n",
      "- The panel takes questions from early submissions and starts with a query about the process of locating procurement contracts and extracting relevant data points.\n",
      "- The researchers, including Rina and Lance, explain that they used the DPWH website and a python script to procure the necessary documents for analysis.\n",
      "- Asst. Erick of DPWH notes that they plan to collaborate with their information management system to improve procurement transparency.\n",
      "- Asst. Erick also mentions that DPWH can facilitate CSO involvement in the procurement process and accreditation of observers, while DOTR focuses on planning active transport infrastructure and monitoring.\n",
      "- Madam Tina expresses the need for better protection in bike lanes, which they obtain through documenting experiences and posting to social media.\n",
      "- She hopes that the experiences of everyday users can be harnessed to initiate interventions in the planning process.\n",
      "- Kuya Patson reaffirms DOTR's openness to CSO participation and notes that they monitor social media and take action based on feedback.\n",
      "- Ate Vivian reminds the panel about the National Budget Memorandum 109, which allows for CSO participation in the planning and budgeting process, and asks if DPWH follows this.\n",
      "- DOTR mentions that they have allocated funds for active transport infrastructure and the phase 1 of 2 of their active transport strategic master plan, with cycling tourism also taken into consideration.\n",
      "- Finally,\n",
      "CPU times: total: 5.78 s\n",
      "Wall time: 1min 32s\n"
     ]
    }
   ],
   "source": [
    "%%time\n",
    "QnA_NoteTaker = OpenAI_NoteTaker(input_dir='Data/Input/4 - QnA.mp4')\n",
    "\n",
    "QnA_NoteTaker.take_notes(system_prompt=role_txt, \n",
    "                         n_items=10, \n",
    "                         convert2mp3=True, \n",
    "                         export_mp3_dir='Data/Output/4 - QnA.mp3',\n",
    "                         show_notes=True)"
   ]
  },
  {
   "cell_type": "code",
   "execution_count": 24,
   "id": "c6bf9cc1",
   "metadata": {},
   "outputs": [
    {
     "name": "stdout",
     "output_type": "stream",
     "text": [
      "Transcript saved at: Data/Output//4 - QnA Transcribed.txt\n",
      "Summarized note saved at: Data/Output//4 - QnA Notes.txt\n",
      "\n",
      "Job Price Breakdown: \n",
      "\n",
      "transcription_price: 0.14188 USD\n",
      "summarization_price: 0.00819 USD\n",
      "total_job_price: 0.15007 USD\n"
     ]
    }
   ],
   "source": [
    "QnA_NoteTaker.save_notes(export_transcription_dir='Data/Output//4 - QnA Transcribed', \n",
    "                         export_summary_dir='Data/Output//4 - QnA Notes')\n",
    "\n",
    "QnA_NoteTaker.get_total_job_price()"
   ]
  },
  {
   "cell_type": "markdown",
   "id": "91cabec1",
   "metadata": {},
   "source": [
    "# V. Get 'grand total' job price"
   ]
  },
  {
   "cell_type": "markdown",
   "id": "e4603aeb",
   "metadata": {},
   "source": [
    "- Prepare `NoteTaker_List`, a list of `NoteTaker` objects.\n",
    "- Get `.complete_job_price_dict` parameter from all items in `NoteTaker_List`.\n",
    "- Construct `dict_list` out of all these dicts."
   ]
  },
  {
   "cell_type": "code",
   "execution_count": 25,
   "id": "55d97885",
   "metadata": {},
   "outputs": [],
   "source": [
    "NoteTaker_List = [Intro_NoteTaker, \n",
    "                  Presentation2a_NoteTaker, \n",
    "                  Presentation2b_NoteTaker, \n",
    "                  Presentation2c_NoteTaker, \n",
    "                  Panel3a_NoteTaker, \n",
    "                  Panel3b_NoteTaker, \n",
    "                  QnA_NoteTaker]\n",
    "\n",
    "dict_list = [NoteTaker.complete_job_price_dict for NoteTaker in NoteTaker_List]"
   ]
  },
  {
   "cell_type": "markdown",
   "id": "d6565c0d",
   "metadata": {},
   "source": [
    "- Use `collections` library to import `Counter` module in order to perform \"key-based addition\" across all dicts."
   ]
  },
  {
   "cell_type": "code",
   "execution_count": 26,
   "id": "b0c54f9e",
   "metadata": {},
   "outputs": [],
   "source": [
    "from collections import Counter"
   ]
  },
  {
   "cell_type": "markdown",
   "id": "727509a3",
   "metadata": {},
   "source": [
    "- Get grand total."
   ]
  },
  {
   "cell_type": "code",
   "execution_count": 27,
   "id": "f448789c",
   "metadata": {},
   "outputs": [],
   "source": [
    "grand_total_dict = Counter()\n",
    "for d in dict_list:\n",
    "    grand_total_dict.update(d)\n",
    "\n",
    "grand_total_USD_dict = {job_type: f\"{value:.5f} USD\" for job_type, value in grand_total_dict.items()}"
   ]
  },
  {
   "cell_type": "markdown",
   "id": "06902a99",
   "metadata": {},
   "source": [
    "- Pretty print."
   ]
  },
  {
   "cell_type": "code",
   "execution_count": 28,
   "id": "1b6813a2",
   "metadata": {},
   "outputs": [
    {
     "name": "stdout",
     "output_type": "stream",
     "text": [
      "NoteTaking Grand Total Job Price Breakdown: \n",
      "\n",
      "transcription_price: 0.60540 USD\n",
      "summarization_price: 0.03700 USD\n",
      "total_job_price: 0.64239 USD\n"
     ]
    }
   ],
   "source": [
    "print('NoteTaking Grand Total Job Price Breakdown: \\n')\n",
    "for job_type,value_USD in grand_total_USD_dict.items(): \n",
    "    print(f\"{job_type}: {value_USD}\") "
   ]
  },
  {
   "cell_type": "code",
   "execution_count": null,
   "id": "3b875629",
   "metadata": {},
   "outputs": [],
   "source": []
  }
 ],
 "metadata": {
  "kernelspec": {
   "display_name": "Python 3 (ipykernel)",
   "language": "python",
   "name": "python3"
  },
  "language_info": {
   "codemirror_mode": {
    "name": "ipython",
    "version": 3
   },
   "file_extension": ".py",
   "mimetype": "text/x-python",
   "name": "python",
   "nbconvert_exporter": "python",
   "pygments_lexer": "ipython3",
   "version": "3.9.1"
  }
 },
 "nbformat": 4,
 "nbformat_minor": 5
}

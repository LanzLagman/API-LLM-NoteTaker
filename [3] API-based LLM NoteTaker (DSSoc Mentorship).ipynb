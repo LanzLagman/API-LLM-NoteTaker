{
 "cells": [
  {
   "cell_type": "code",
   "execution_count": 1,
   "id": "0a7d4cf5",
   "metadata": {},
   "outputs": [
    {
     "name": "stdout",
     "output_type": "stream",
     "text": [
      "Python 3.9.1\n"
     ]
    }
   ],
   "source": [
    "!python --version"
   ]
  },
  {
   "cell_type": "code",
   "execution_count": 2,
   "id": "b9ff05d7",
   "metadata": {},
   "outputs": [],
   "source": [
    "import os\n",
    "import openai"
   ]
  },
  {
   "cell_type": "markdown",
   "id": "d296be97",
   "metadata": {},
   "source": [
    "- Load the `.txt` file that contains your OpenAI API key."
   ]
  },
  {
   "cell_type": "code",
   "execution_count": 3,
   "id": "2c57d520",
   "metadata": {},
   "outputs": [],
   "source": [
    "with open('Data/Input/api-key.txt', 'r') as file:\n",
    "    api_key = file.read()\n",
    "\n",
    "os.environ[\"OPENAI_API_KEY\"] = api_key\n",
    "openai.api_key = os.getenv(\"OPENAI_API_KEY\")"
   ]
  },
  {
   "cell_type": "markdown",
   "id": "49ae0fc4",
   "metadata": {},
   "source": [
    "<img src=\"Data/UP Data Science Society Logo 2.png\" width=700>"
   ]
  },
  {
   "cell_type": "markdown",
   "id": "e58d6030",
   "metadata": {},
   "source": [
    "# DSSoc Mentorship: Data Ethics\n",
    "\n",
    "One of our Mentorship Sessions at the UP Data Science Society covered [Data Ethics](https://www.facebook.com/100079165176241/videos/643438693861938), with Sir Benedict Olgado as the resource speaker:\n",
    "\n",
    "<img src=\"Data/Input/DSSoc Mentorship/title_card.jpg\" alt=\"Mentorship Card\"  width=500>\n",
    "\n",
    "- Data had become the most valuable resource in the world and was being used to generate insights and innovations that impacted industries and communities: At the time of the event, data had already transformed the way organizations operate and make decisions. The insights generated from data had the potential to revolutionize industries and improve the lives of people. With the massive amounts of data being generated every day, it had become crucial to understand the importance of data ethics.\n",
    "\n",
    "- The proper use of data was emphasized then more than ever: As data grew in importance and power, there was a growing concern over its misuse. Ethical considerations had become increasingly important in data science and analytics. It was important to use data in a way that was responsible, transparent, and respects privacy and human rights.\n",
    "\n",
    "- Sir Benedict Olgado, a PhD student at the University of California, Irvine, talked about the ethical use of data: Sir Olgado's expertise and knowledge in the field of data ethics made the talk a valuable opportunity for individuals and organizations to learn more about the ethical considerations that should be taken when handling data. It was important to hear from experts who can provide valuable insights into the responsible use of data.\n",
    "\n",
    "- The talk was held in partnership with Diliman Learning Resource Center and was livestreamed on Facebook on Oct 6, 10-11 AM: The partnership between UP Data Science Society and Diliman Learning Resource Center provided a platform for individuals and organizations to learn more about data ethics. The livestreaming of the event on Facebook made it accessible to a wider audience, making it possible for more people to learn about the responsible use of data."
   ]
  },
  {
   "cell_type": "markdown",
   "id": "f7ec2c21",
   "metadata": {},
   "source": [
    "### Preliminaries\n",
    "\n",
    "- Import `OpenAI_NoteTaker`."
   ]
  },
  {
   "cell_type": "code",
   "execution_count": 4,
   "id": "1a9955db",
   "metadata": {},
   "outputs": [],
   "source": [
    "from OpenAI_NoteTaker import OpenAI_NoteTaker"
   ]
  },
  {
   "cell_type": "markdown",
   "id": "d84ca633",
   "metadata": {},
   "source": [
    "- Prepare role"
   ]
  },
  {
   "cell_type": "code",
   "execution_count": 5,
   "id": "3101a890",
   "metadata": {},
   "outputs": [
    {
     "name": "stdout",
     "output_type": "stream",
     "text": [
      "You are a detail-oriented STEM student from the Philippines who wants to pursue a career as a data scientist who also specializes in science communication, which allows you to easily transcribe text to pure English.\n"
     ]
    }
   ],
   "source": [
    "role_txt = \"You are a detail-oriented STEM student from the Philippines who wants to pursue a career as a data scientist who also specializes in science communication, which allows you to easily transcribe text to pure English.\"\n",
    "print(role_txt)"
   ]
  },
  {
   "cell_type": "markdown",
   "id": "ca212043",
   "metadata": {},
   "source": [
    "# I. Discussion Proper\n",
    "\n",
    "## A. Part 1 of Talk\n",
    "\n",
    "- Summarize into 5 points."
   ]
  },
  {
   "cell_type": "code",
   "execution_count": 6,
   "id": "9ba1ee21",
   "metadata": {},
   "outputs": [
    {
     "name": "stdout",
     "output_type": "stream",
     "text": [
      "Output .mp3 file saved to Data/Output/DSSoc Mentorship/Mentorship_Vid_Pt1a.mp3\n",
      "Conversion to mp3 successful.\n",
      "Input file size: 1.7e+01 MB.\n",
      "Duration: 1.1e+03 s\n",
      "Input transcription tokens: 2702\n",
      "\n",
      "NoteTaker's Summary in 5 points: \n",
      "\n",
      "1. The speaker views data both as a document and technology, and their background in information science and archiving informs this perspective. \n",
      "2. The speaker's relationship with data is tied to their commitment to human rights, and they work in developing information infrastructures for human rights organizations. \n",
      "3. Data-driven practice is becoming more ubiquitous and presents both promises of innovation and progress as well as threats and risks to social norms and activities. \n",
      "4. Pursuing data ethics requires acknowledging that data is never raw, never neutral, and always has a context that is related to the ecosystem it exists in. \n",
      "5. Ethical data practices should focus on improving people's lives and knowing when not to use data, as well as designing with stakeholders and communicating how algorithms work to non-experts.\n",
      "CPU times: total: 4.66 s\n",
      "Wall time: 1min 5s\n"
     ]
    }
   ],
   "source": [
    "%%time\n",
    "Talk1a_NoteTaker = OpenAI_NoteTaker(input_dir='Data/Input/DSSoc Mentorship/Mentorship_Vid_Pt1a.mp4')\n",
    "\n",
    "Talk1a_NoteTaker.take_notes(system_prompt=role_txt, \n",
    "                            n_items=5, \n",
    "                            convert2mp3=True,\n",
    "                            export_mp3_dir='Data/Output/DSSoc Mentorship/Mentorship_Vid_Pt1a.mp3',\n",
    "                            show_notes=True)"
   ]
  },
  {
   "cell_type": "markdown",
   "id": "75f7d568",
   "metadata": {},
   "source": [
    "- Save raw transcription and summarized notes.\n",
    "- View total pricing."
   ]
  },
  {
   "cell_type": "code",
   "execution_count": 7,
   "id": "92703f3c",
   "metadata": {},
   "outputs": [
    {
     "name": "stdout",
     "output_type": "stream",
     "text": [
      "Transcript saved at: Data/Output/DSSoc Mentorship/Mentorship_Vid_Pt1a [Transcribed].txt\n",
      "Summarized note saved at: Data/Output/DSSoc Mentorship/Mentorship_Vid_Pt1a [Notes].txt\n",
      "\n",
      "Job Price Breakdown: \n",
      "\n",
      "transcription_price: 0.11220 USD\n",
      "summarization_price: 0.00585 USD\n",
      "total_job_price: 0.11805 USD\n"
     ]
    }
   ],
   "source": [
    "Talk1a_NoteTaker.save_notes(export_transcription_dir='Data/Output/DSSoc Mentorship/Mentorship_Vid_Pt1a [Transcribed]', \n",
    "                            export_summary_dir='Data/Output/DSSoc Mentorship/Mentorship_Vid_Pt1a [Notes]')\n",
    "\n",
    "Talk1a_NoteTaker.get_total_job_price()"
   ]
  },
  {
   "cell_type": "markdown",
   "id": "95c3472d",
   "metadata": {},
   "source": [
    "## B. Part 2 of Talk\n",
    "\n",
    "- Summarize into 5 points."
   ]
  },
  {
   "cell_type": "code",
   "execution_count": 8,
   "id": "002cf4c3",
   "metadata": {},
   "outputs": [
    {
     "name": "stdout",
     "output_type": "stream",
     "text": [
      "Output .mp3 file saved to Data/Output/DSSoc Mentorship/Mentorship_Vid_Pt1b.mp3\n",
      "Conversion to mp3 successful.\n",
      "Input file size: 1.8e+01 MB.\n",
      "Duration: 1.2e+03 s\n",
      "Input transcription tokens: 3018\n",
      "\n",
      "NoteTaker's Summary in 5 points: \n",
      "\n",
      "1. Data ethics and the impact of datafication are often discussed in the context of the global north, but those examples of harm should inform developing nations as they mature their own datafication practices. \n",
      "2. The data science maturity of the Philippines is hindered by the poor management of records and documents which are necessary for accurate data. \n",
      "3. The video discusses the ethical approach of user-centered design when developing databases and algorithms, where the focus is on identifying user needs rather than designing for technology. \n",
      "4. Feminist approaches focus on centering care, responsibility, and minimizing harm through acts of refusal and clear commitments. \n",
      "5. Pursuing ethical data science requires interdisciplinary learning, constant engagement, and a commitment to serving the communities being studied.\n",
      "CPU times: total: 4.2 s\n",
      "Wall time: 1min 4s\n"
     ]
    }
   ],
   "source": [
    "%%time\n",
    "Talk1b_NoteTaker = OpenAI_NoteTaker(input_dir='Data/Input/DSSoc Mentorship/Mentorship_Vid_Pt1b.mp4')\n",
    "\n",
    "Talk1b_NoteTaker.take_notes(system_prompt=role_txt, \n",
    "                            n_items=5, \n",
    "                            convert2mp3=True,\n",
    "                            export_mp3_dir='Data/Output/DSSoc Mentorship/Mentorship_Vid_Pt1b.mp3',\n",
    "                            show_notes=True)"
   ]
  },
  {
   "cell_type": "markdown",
   "id": "5aa55ecf",
   "metadata": {},
   "source": [
    "- Save raw transcription and summarized notes.\n",
    "- View total pricing."
   ]
  },
  {
   "cell_type": "code",
   "execution_count": 9,
   "id": "5dcf3bc5",
   "metadata": {},
   "outputs": [
    {
     "name": "stdout",
     "output_type": "stream",
     "text": [
      "Transcript saved at: Data/Output/DSSoc Mentorship/Mentorship_Vid_Pt1b [Transcribed].txt\n",
      "Summarized note saved at: Data/Output/DSSoc Mentorship/Mentorship_Vid_Pt1b [Notes].txt\n",
      "\n",
      "Job Price Breakdown: \n",
      "\n",
      "transcription_price: 0.11710 USD\n",
      "summarization_price: 0.00647 USD\n",
      "total_job_price: 0.12357 USD\n"
     ]
    }
   ],
   "source": [
    "Talk1b_NoteTaker.save_notes(export_transcription_dir='Data/Output/DSSoc Mentorship/Mentorship_Vid_Pt1b [Transcribed]', \n",
    "                            export_summary_dir='Data/Output/DSSoc Mentorship/Mentorship_Vid_Pt1b [Notes]')\n",
    "\n",
    "Talk1b_NoteTaker.get_total_job_price()"
   ]
  },
  {
   "cell_type": "markdown",
   "id": "0ffb20b6",
   "metadata": {},
   "source": [
    "## C. Q&A\n",
    "\n",
    "- Summarize in 6 points."
   ]
  },
  {
   "cell_type": "code",
   "execution_count": 10,
   "id": "e9369465",
   "metadata": {},
   "outputs": [
    {
     "name": "stdout",
     "output_type": "stream",
     "text": [
      "Output .mp3 file saved to Data/Output/DSSoc Mentorship/Mentorship_Vid_Pt2.mp3\n",
      "Conversion to mp3 successful.\n",
      "Input file size: 2.3e+01 MB.\n",
      "Duration: 1.5e+03 s\n",
      "Input transcription tokens: 3894\n",
      "\n",
      "NoteTaker's Summary in 6 points: \n",
      "\n",
      "1. The speaker highlights the importance of ethical considerations in data science.\n",
      "2. The speaker emphasizes the need for consent and privacy when collecting and analyzing data.\n",
      "3. The ethical issues surrounding web scraping are discussed, and the importance of analyzing the purpose and content of web-scraped information is emphasized.\n",
      "4. The speaker recommends the text \"Raw Data is an Oxymoron\" and the work of Luciano Floridi for those interested in learning more about data ethics.\n",
      "5. The importance of developing domain-specific knowledge and interdisciplinary skills is stressed.\n",
      "6. The speaker recommends learning the programming language R.\n",
      "CPU times: total: 6.48 s\n",
      "Wall time: 1min 22s\n"
     ]
    }
   ],
   "source": [
    "%%time\n",
    "QnA_NoteTaker = OpenAI_NoteTaker(input_dir='Data/Input/DSSoc Mentorship/Mentorship_Vid_Pt2.mp4')\n",
    "\n",
    "QnA_NoteTaker.take_notes(system_prompt=role_txt, \n",
    "                         n_items=6, \n",
    "                         convert2mp3=True,\n",
    "                         export_mp3_dir='Data/Output/DSSoc Mentorship/Mentorship_Vid_Pt2.mp3',\n",
    "                         show_notes=True)"
   ]
  },
  {
   "cell_type": "markdown",
   "id": "daf8d501",
   "metadata": {},
   "source": [
    "- Save raw transcription and summarized notes.\n",
    "- View total pricing."
   ]
  },
  {
   "cell_type": "code",
   "execution_count": 11,
   "id": "d1089641",
   "metadata": {},
   "outputs": [
    {
     "name": "stdout",
     "output_type": "stream",
     "text": [
      "Transcript saved at: Data/Output/DSSoc Mentorship/Mentorship_Vid_Pt2 [Transcribed].txt\n",
      "Summarized note saved at: Data/Output/DSSoc Mentorship/Mentorship_Vid_Pt2 [Notes].txt\n",
      "\n",
      "Job Price Breakdown: \n",
      "\n",
      "transcription_price: 0.15260 USD\n",
      "summarization_price: 0.00816 USD\n",
      "total_job_price: 0.16076 USD\n"
     ]
    }
   ],
   "source": [
    "QnA_NoteTaker.save_notes(export_transcription_dir='Data/Output/DSSoc Mentorship/Mentorship_Vid_Pt2 [Transcribed]', \n",
    "                         export_summary_dir='Data/Output/DSSoc Mentorship/Mentorship_Vid_Pt2 [Notes]')\n",
    "\n",
    "QnA_NoteTaker.get_total_job_price()"
   ]
  },
  {
   "cell_type": "markdown",
   "id": "91cabec1",
   "metadata": {},
   "source": [
    "# II. Get 'grand total' job price"
   ]
  },
  {
   "cell_type": "markdown",
   "id": "e4603aeb",
   "metadata": {},
   "source": [
    "- Prepare `NoteTaker_List`, a list of `NoteTaker` objects.\n",
    "- Get `.complete_job_price_dict` parameter from all items in `NoteTaker_List`.\n",
    "- Construct `dict_list` out of all these dicts."
   ]
  },
  {
   "cell_type": "code",
   "execution_count": 12,
   "id": "55d97885",
   "metadata": {},
   "outputs": [],
   "source": [
    "NoteTaker_List = [Talk1a_NoteTaker, \n",
    "                  Talk1b_NoteTaker,\n",
    "                  QnA_NoteTaker]\n",
    "\n",
    "dict_list = [NoteTaker.complete_job_price_dict for NoteTaker in NoteTaker_List]"
   ]
  },
  {
   "cell_type": "markdown",
   "id": "d6565c0d",
   "metadata": {},
   "source": [
    "- Use `collections` library to import `Counter` module in order to perform \"key-based addition\" across all dicts."
   ]
  },
  {
   "cell_type": "code",
   "execution_count": 13,
   "id": "b0c54f9e",
   "metadata": {},
   "outputs": [],
   "source": [
    "from collections import Counter"
   ]
  },
  {
   "cell_type": "markdown",
   "id": "727509a3",
   "metadata": {},
   "source": [
    "- Get grand total."
   ]
  },
  {
   "cell_type": "code",
   "execution_count": 14,
   "id": "f448789c",
   "metadata": {},
   "outputs": [],
   "source": [
    "grand_total_dict = Counter()\n",
    "for d in dict_list:\n",
    "    grand_total_dict.update(d)\n",
    "\n",
    "grand_total_USD_dict = {job_type: f\"{value:.5f} USD\" for job_type, value in grand_total_dict.items()}"
   ]
  },
  {
   "cell_type": "markdown",
   "id": "06902a99",
   "metadata": {},
   "source": [
    "- Pretty print."
   ]
  },
  {
   "cell_type": "code",
   "execution_count": 15,
   "id": "1b6813a2",
   "metadata": {},
   "outputs": [
    {
     "name": "stdout",
     "output_type": "stream",
     "text": [
      "NoteTaking Grand Total Job Price Breakdown: \n",
      "\n",
      "transcription_price: 0.38191 USD\n",
      "summarization_price: 0.02048 USD\n",
      "total_job_price: 0.40239 USD\n"
     ]
    }
   ],
   "source": [
    "print('NoteTaking Grand Total Job Price Breakdown: \\n')\n",
    "for job_type,value_USD in grand_total_USD_dict.items(): \n",
    "    print(f\"{job_type}: {value_USD}\") "
   ]
  },
  {
   "cell_type": "code",
   "execution_count": null,
   "id": "3b875629",
   "metadata": {},
   "outputs": [],
   "source": []
  }
 ],
 "metadata": {
  "kernelspec": {
   "display_name": "Python 3 (ipykernel)",
   "language": "python",
   "name": "python3"
  },
  "language_info": {
   "codemirror_mode": {
    "name": "ipython",
    "version": 3
   },
   "file_extension": ".py",
   "mimetype": "text/x-python",
   "name": "python",
   "nbconvert_exporter": "python",
   "pygments_lexer": "ipython3",
   "version": "3.9.1"
  }
 },
 "nbformat": 4,
 "nbformat_minor": 5
}
